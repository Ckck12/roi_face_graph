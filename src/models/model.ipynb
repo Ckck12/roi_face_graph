{
 "cells": [
  {
   "cell_type": "code",
   "execution_count": null,
   "metadata": {},
   "outputs": [],
   "source": []
  },
  {
   "cell_type": "code",
   "execution_count": 22,
   "metadata": {},
   "outputs": [
    {
     "name": "stdout",
     "output_type": "stream",
     "text": [
      "/home/parkchan/face_roi_graph\n"
     ]
    }
   ],
   "source": [
    "import os\n",
    "\n",
    "os.environ['PYTHONPATH'] = \"/home/parkchan/face_roi_graph\"\n",
    "print(os.environ['PYTHONPATH'])\n"
   ]
  },
  {
   "cell_type": "code",
   "execution_count": 25,
   "metadata": {},
   "outputs": [
    {
     "ename": "ModuleNotFoundError",
     "evalue": "No module named 'models'",
     "output_type": "error",
     "traceback": [
      "\u001b[0;31m---------------------------------------------------------------------------\u001b[0m",
      "\u001b[0;31mModuleNotFoundError\u001b[0m                       Traceback (most recent call last)",
      "Input \u001b[0;32mIn [25]\u001b[0m, in \u001b[0;36m<cell line: 5>\u001b[0;34m()\u001b[0m\n\u001b[1;32m      3\u001b[0m \u001b[38;5;28;01mimport\u001b[39;00m \u001b[38;5;21;01mtorch\u001b[39;00m\n\u001b[1;32m      4\u001b[0m \u001b[38;5;28;01mimport\u001b[39;00m \u001b[38;5;21;01mtorch\u001b[39;00m\u001b[38;5;21;01m.\u001b[39;00m\u001b[38;5;21;01mnn\u001b[39;00m \u001b[38;5;28;01mas\u001b[39;00m \u001b[38;5;21;01mnn\u001b[39;00m\n\u001b[0;32m----> 5\u001b[0m \u001b[38;5;28;01mfrom\u001b[39;00m \u001b[38;5;21;01mmodels\u001b[39;00m\u001b[38;5;21;01m.\u001b[39;00m\u001b[38;5;21;01mroi_vit_extractor\u001b[39;00m \u001b[38;5;28;01mimport\u001b[39;00m ROIViTExtractor\n\u001b[1;32m      6\u001b[0m \u001b[38;5;28;01mfrom\u001b[39;00m \u001b[38;5;21;01mmodels\u001b[39;00m\u001b[38;5;21;01m.\u001b[39;00m\u001b[38;5;21;01mgru_mlp\u001b[39;00m \u001b[38;5;28;01mimport\u001b[39;00m GRUMLPClassifier\n\u001b[1;32m      8\u001b[0m \u001b[38;5;28;01mclass\u001b[39;00m \u001b[38;5;21;01mFullGRUPipelineModel\u001b[39;00m(nn\u001b[38;5;241m.\u001b[39mModule):\n",
      "\u001b[0;31mModuleNotFoundError\u001b[0m: No module named 'models'"
     ]
    }
   ],
   "source": [
    "# src/models/full_gru_pipeline.py\n",
    "\n",
    "import torch\n",
    "import torch.nn as nn\n",
    "from models.roi_vit_extractor import ROIViTExtractor\n",
    "from models.gru_mlp import GRUMLPClassifier\n",
    "\n",
    "class FullGRUPipelineModel(nn.Module):\n",
    "    \"\"\"\n",
    "    ROI 추출기와 GRU 기반 MLP 분류기를 통합한 파이프라인 모델\n",
    "    \"\"\"\n",
    "    def __init__(\n",
    "        self,\n",
    "        model_name=\"ViT-B/32\",\n",
    "        device=\"cuda\",\n",
    "        image_size=224,\n",
    "        patch_size=32,\n",
    "        hidden_dim=768,\n",
    "        gru_hidden_dim=512,\n",
    "        num_classes=2\n",
    "    ):\n",
    "        super(FullGRUPipelineModel, self).__init__()\n",
    "        self.device = device\n",
    "\n",
    "        # ROI 추출 모델\n",
    "        self.roi_extractor = ROIViTExtractor(\n",
    "            model_name=model_name,\n",
    "            device=device,\n",
    "            image_size=image_size,\n",
    "            patch_size=patch_size,\n",
    "            hidden_dim=hidden_dim\n",
    "        )\n",
    "\n",
    "        # GRU + MLP 기반 분류기\n",
    "        self.classifier = GRUMLPClassifier(\n",
    "            hidden_dim=hidden_dim,\n",
    "            gru_hidden_dim=gru_hidden_dim,\n",
    "            num_classes=num_classes\n",
    "        )\n",
    "\n",
    "    def forward(self, frames, bboxes):\n",
    "        \"\"\"\n",
    "        Args:\n",
    "            frames: (B, T, 3, H, W) 입력 이미지 시퀀스\n",
    "            bboxes: (B, T, N, 4) 각 프레임의 ROI 바운딩 박스\n",
    "        Returns:\n",
    "            logits: (B, num_classes) 분류 결과\n",
    "        \"\"\"\n",
    "        B, T, _, _, _ = frames.shape\n",
    "        _, _, N, _ = bboxes.shape\n",
    "\n",
    "        # ROI 임베딩 생성\n",
    "        batch_all_roi_cls = []\n",
    "        for b_idx in range(B):\n",
    "            all_roi_cls = []\n",
    "            for t_idx in range(T):\n",
    "                frame_t = frames[b_idx, t_idx]  # (3, H, W)\n",
    "                bbox_t = bboxes[b_idx, t_idx]  # (N, 4)\n",
    "                roi_cls = self.roi_extractor(frame_t, bbox_t)  # (N, hidden_dim)\n",
    "                all_roi_cls.append(roi_cls.unsqueeze(0))  # (1, N, hidden_dim)\n",
    "\n",
    "            # 프레임별 ROI 임베딩을 결합\n",
    "            batch_all_roi_cls.append(torch.cat(all_roi_cls, dim=0).unsqueeze(0))  # (1, T, N, hidden_dim)\n",
    "\n",
    "        # 배치별 데이터 결합\n",
    "        batch_all_roi_cls = torch.cat(batch_all_roi_cls, dim=0).to(self.device)  # (B, T, N, hidden_dim)\n",
    "\n",
    "        # GRU 기반 분류기 통과\n",
    "        logits = self.classifier(batch_all_roi_cls)  # (B, num_classes)\n",
    "\n",
    "        return logits\n",
    "\n",
    "\n",
    "# 이 최종모델의 파라미터수 계산\n",
    "def count_parameters(model):\n",
    "    return sum(p.numel() for p in model.parameters() if p.requires_grad)\n"
   ]
  },
  {
   "cell_type": "code",
   "execution_count": null,
   "metadata": {},
   "outputs": [],
   "source": []
  }
 ],
 "metadata": {
  "kernelspec": {
   "display_name": "facegraph",
   "language": "python",
   "name": "python3"
  },
  "language_info": {
   "codemirror_mode": {
    "name": "ipython",
    "version": 3
   },
   "file_extension": ".py",
   "mimetype": "text/x-python",
   "name": "python",
   "nbconvert_exporter": "python",
   "pygments_lexer": "ipython3",
   "version": "3.9.20"
  }
 },
 "nbformat": 4,
 "nbformat_minor": 2
}
