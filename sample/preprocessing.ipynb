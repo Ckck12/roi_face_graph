{
 "cells": [
  {
   "cell_type": "code",
   "execution_count": 2,
   "metadata": {},
   "outputs": [
    {
     "name": "stdout",
     "output_type": "stream",
     "text": [
      "          id                                         video_path  \\\n",
      "0  Deepfakes  /media/NAS/DATASET/FaceForensics_Dec2020/FaceF...   \n",
      "1  Deepfakes  /media/NAS/DATASET/FaceForensics_Dec2020/FaceF...   \n",
      "2  Deepfakes  /media/NAS/DATASET/FaceForensics_Dec2020/FaceF...   \n",
      "3  Deepfakes  /media/NAS/DATASET/FaceForensics_Dec2020/FaceF...   \n",
      "4  Deepfakes  /media/NAS/DATASET/FaceForensics_Dec2020/FaceF...   \n",
      "\n",
      "                                   frame_path_folder  label   type  \n",
      "0  /media/NAS/DATASET/faceforensics++/Dec2020/v1f...      1   test  \n",
      "1  /media/NAS/DATASET/faceforensics++/Dec2020/v1f...      1  train  \n",
      "2  /media/NAS/DATASET/faceforensics++/Dec2020/v1f...      1  train  \n",
      "3  /media/NAS/DATASET/faceforensics++/Dec2020/v1f...      1   test  \n",
      "4  /media/NAS/DATASET/faceforensics++/Dec2020/v1f...      1    val  \n"
     ]
    }
   ],
   "source": [
    "import pandas as pd\n",
    "import os\n",
    "\n",
    "# 1. train / test / val 정보가 담긴 csv 불러오기\n",
    "df_split = pd.read_csv(\"faceforensic++_train_test_val_split.csv\")\n",
    "# 예: \n",
    "#   id  train_type\n",
    "# 0  0        test\n",
    "# 1  1       train\n",
    "# 2  2       train\n",
    "# 3  3        test\n",
    "# 4  4         val\n",
    "# ...\n",
    "\n",
    "# 2. ff++_c23.csv 불러오기\n",
    "#   컬럼: [id, video_path, frame_path_folder, label, type] (이미 존재)\n",
    "df_ff = pd.read_csv(\"ff++_c23.csv\")\n",
    "\n",
    "# 3. 동영상 파일명에서 ID를 뽑아내서 train/test/val을 매칭해 주는 함수\n",
    "def get_train_type_from_filename(filename: str) -> str:\n",
    "    \"\"\"\n",
    "    파일명에서 ID를 추출 후, faceforensic++_train_test_val_split.csv의 train_type을 반환\n",
    "    예) '000_003.mp4' -> '000'\n",
    "        '998.mp4' -> '998'\n",
    "    \"\"\"\n",
    "    # 확장자 제거 (.mp4 등)\n",
    "    name_only = os.path.splitext(filename)[0]  # 예: '000_003' 또는 '998'\n",
    "    \n",
    "    # '_' 기준으로 앞부분이 우리가 원하는 ID(Original인 경우 '_' 자체가 없으므로 그대로 쓰면 됨)\n",
    "    if '_' in name_only:\n",
    "        name_only = name_only.split('_')[0]  # 예: '000_003' → '000'\n",
    "    \n",
    "    # 정수 변환 (문자열 → 숫자)\n",
    "    id_num = int(name_only)\n",
    "    \n",
    "    # df_split에서 해당 ID에 맞는 train_type 가져오기\n",
    "    row = df_split[df_split[\"id\"] == id_num]\n",
    "    \n",
    "    # 혹시 해당 ID가 없을 경우 대비\n",
    "    if len(row) == 0:\n",
    "        return \"Unknown\"\n",
    "    \n",
    "    return row[\"train_type\"].values[0]  # train / test / val\n",
    "\n",
    "# 4. ff++_c23.csv의 각 행에 대해 video_path에서 파일명을 추출한 뒤 위 함수로 type 컬럼 채우기\n",
    "def fill_type_column(df: pd.DataFrame) -> pd.DataFrame:\n",
    "    df = df.copy()\n",
    "    df[\"type\"] = df[\"video_path\"].apply(lambda path: \n",
    "                                        get_train_type_from_filename(os.path.basename(path)))\n",
    "    return df\n",
    "\n",
    "# 실제로 type 컬럼 갱신\n",
    "df_ff_updated = fill_type_column(df_ff)\n",
    "\n",
    "# 5. 결과 확인\n",
    "print(df_ff_updated.head())\n",
    "\n",
    "# 6. 저장(필요하면)\n",
    "df_ff_updated.to_csv(\"ff++_c23_with_type.csv\", index=False)\n"
   ]
  },
  {
   "cell_type": "code",
   "execution_count": null,
   "metadata": {},
   "outputs": [],
   "source": []
  }
 ],
 "metadata": {
  "kernelspec": {
   "display_name": "facegraph",
   "language": "python",
   "name": "python3"
  },
  "language_info": {
   "codemirror_mode": {
    "name": "ipython",
    "version": 3
   },
   "file_extension": ".py",
   "mimetype": "text/x-python",
   "name": "python",
   "nbconvert_exporter": "python",
   "pygments_lexer": "ipython3",
   "version": "3.9.20"
  }
 },
 "nbformat": 4,
 "nbformat_minor": 2
}
