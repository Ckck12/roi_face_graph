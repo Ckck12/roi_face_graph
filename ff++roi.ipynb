{
 "cells": [
  {
   "cell_type": "code",
   "execution_count": 1,
   "metadata": {},
   "outputs": [
    {
     "name": "stdout",
     "output_type": "stream",
     "text": [
      "  manipulation_name  id video_id train_type  label  \\\n",
      "0         Deepfakes   0    000_0       test      1   \n",
      "1         Deepfakes   0    000_1       test      1   \n",
      "2         Deepfakes   0    000_2       test      1   \n",
      "3         Deepfakes   0    000_3       test      1   \n",
      "4         Deepfakes   1    001_0      train      1   \n",
      "\n",
      "                                      video_npy_path  \\\n",
      "0  /media/NAS/DATASET/faceforensics++/landmark_pa...   \n",
      "1  /media/NAS/DATASET/faceforensics++/landmark_pa...   \n",
      "2  /media/NAS/DATASET/faceforensics++/landmark_pa...   \n",
      "3  /media/NAS/DATASET/faceforensics++/landmark_pa...   \n",
      "4  /media/NAS/DATASET/faceforensics++/landmark_pa...   \n",
      "\n",
      "                                   landmark_npy_path  \\\n",
      "0  /media/NAS/DATASET/faceforensics++/landmark_pa...   \n",
      "1  /media/NAS/DATASET/faceforensics++/landmark_pa...   \n",
      "2  /media/NAS/DATASET/faceforensics++/landmark_pa...   \n",
      "3  /media/NAS/DATASET/faceforensics++/landmark_pa...   \n",
      "4  /media/NAS/DATASET/faceforensics++/landmark_pa...   \n",
      "\n",
      "                                    patches_npy_path  \\\n",
      "0  /media/NAS/DATASET/faceforensics++/landmark_pa...   \n",
      "1  /media/NAS/DATASET/faceforensics++/landmark_pa...   \n",
      "2  /media/NAS/DATASET/faceforensics++/landmark_pa...   \n",
      "3  /media/NAS/DATASET/faceforensics++/landmark_pa...   \n",
      "4  /media/NAS/DATASET/faceforensics++/landmark_pa...   \n",
      "\n",
      "                                        x3d_npy_path  \n",
      "0  /media/NAS/DATASET/faceforensics++/landmark_pa...  \n",
      "1  /media/NAS/DATASET/faceforensics++/landmark_pa...  \n",
      "2  /media/NAS/DATASET/faceforensics++/landmark_pa...  \n",
      "3  /media/NAS/DATASET/faceforensics++/landmark_pa...  \n",
      "4  /media/NAS/DATASET/faceforensics++/landmark_pa...  \n"
     ]
    }
   ],
   "source": [
    "# video_npy_path,landmark_npy_path,patches_npy_path,x3d_npy_path 칼럼이 존재하는데 각 열의 값의 파일 주소를 수정할 것임\n",
    "# 현재 구조가 예를 들어 video_npy_path의 경우  /media/NAS/DATASET/faceforensics++/cvpr25/c23/Deepfakes/Deepfakes_video_npy/000_0.npy인데\n",
    "# /media/NAS/DATASET/faceforensics++/landmark_patch_video/c23/Deepfakes/Deepfakes_video_npy/000_0.npy로 수정할 것임 \n",
    "# 마찬가지로 다른 칼럼도 파일 위치를 비슷하게 수정\n",
    "# Deepfakes, Face2Face, FaceSwap, FaceShifter, NeuralTexture, Original 이 존재함\n",
    "\n",
    "import pandas as pd\n",
    "\n",
    "# CSV 파일 읽기\n",
    "df = pd.read_csv('faceforensics++_training_metadata.csv')\n",
    "\n",
    "# 기존 및 새로운 기본 경로 정의\n",
    "old_base = '/media/NAS/DATASET/faceforensics++/cvpr25/'\n",
    "new_base = '/media/NAS/DATASET/faceforensics++/landmark_patch_video/'\n",
    "\n",
    "# 수정할 열 목록\n",
    "columns_to_update = ['video_npy_path', 'landmark_npy_path', 'patches_npy_path', 'x3d_npy_path']\n",
    "\n",
    "# 각 열의 경로를 새로운 기본 경로로 대체\n",
    "for col in columns_to_update:\n",
    "    df[col] = df[col].str.replace(old_base, new_base, regex=False)\n",
    "\n",
    "# 수정된 DataFrame을 새로운 CSV 파일로 저장 (선택 사항)\n",
    "df.to_csv('faceforensics++_training_metadata_updated.csv', index=False)\n",
    "\n",
    "# 변경된 DataFrame 확인 (선택 사항)\n",
    "print(df.head())\n"
   ]
  },
  {
   "cell_type": "code",
   "execution_count": 2,
   "metadata": {},
   "outputs": [],
   "source": [
    "import pandas as pd\n",
    "import numpy as np"
   ]
  },
  {
   "cell_type": "code",
   "execution_count": null,
   "metadata": {},
   "outputs": [
    {
     "name": "stdout",
     "output_type": "stream",
     "text": [
      "/media/NAS/DATASET/faceforensics++/landmark_patch_video/c23/Deepfakes/Deepfakes_metadata/000_0_landmarks.npy\n",
      "(16, 1, 68, 2)\n"
     ]
    },
    {
     "data": {
      "image/png": "[encoded data removed]",
      "text/plain": [
       "<Figure size 640x480 with 1 Axes>"
      ]
     },
     "metadata": {},
     "output_type": "display_data"
    }
   ],
   "source": [
    "df = pd.read_csv('faceforensics++_training_metadata_updated.csv')\n",
    "\n",
    "# landmark_npy_path 한개 파일 읽기\n",
    "print(df['landmark_npy_path'][0])\n",
    "\n",
    "# npy 파일 읽기\n",
    "landmark = np.load(df['landmark_npy_path'][0])\n",
    "print(landmark.shape)\n",
    "\n",
    "\n",
    "# (16, 1, 68, 2) 랜드마크 값 시각화\n",
    "\n",
    "import matplotlib.pyplot as plt\n",
    "\n",
    "# 첫 번째 프레임의 랜드마크 시각화\n",
    "frame_landmarks = landmark[0, 0, :, :]\n",
    "plt.scatter(frame_landmarks[:, 0], frame_landmarks[:, 1])\n",
    "plt.title('Landmarks for the first frame')\n",
    "plt.xlabel('X')\n",
    "plt.ylabel('Y')\n",
    "plt.gca().invert_yaxis()  # 이미지 좌표계에 맞게 Y축 반전\n",
    "plt.show()\n"
   ]
  },
  {
   "cell_type": "code",
   "execution_count": 8,
   "metadata": {},
   "outputs": [
    {
     "name": "stdout",
     "output_type": "stream",
     "text": [
      "/media/NAS/DATASET/faceforensics++/landmark_patch_video/c23/Deepfakes/Deepfakes_video_npy/000_0.npy\n",
      "(16, 3, 224, 224)\n"
     ]
    }
   ],
   "source": [
    "# video_npy_path 한개 파일 읽기\n",
    "print(df['video_npy_path'][0])\n",
    "\n",
    "# npy 파일 읽기\n",
    "video = np.load(df['video_npy_path'][0])\n",
    "print(video.shape)\n"
   ]
  },
  {
   "cell_type": "code",
   "execution_count": null,
   "metadata": {},
   "outputs": [],
   "source": []
  }
 ],
 "metadata": {
  "kernelspec": {
   "display_name": "facegraph",
   "language": "python",
   "name": "python3"
  },
  "language_info": {
   "codemirror_mode": {
    "name": "ipython",
    "version": 3
   },
   "file_extension": ".py",
   "mimetype": "text/x-python",
   "name": "python",
   "nbconvert_exporter": "python",
   "pygments_lexer": "ipython3",
   "version": "3.9.20"
  }
 },
 "nbformat": 4,
 "nbformat_minor": 2
}
